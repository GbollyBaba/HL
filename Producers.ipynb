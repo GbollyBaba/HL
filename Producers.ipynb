{
 "cells": [
  {
   "cell_type": "code",
   "execution_count": 12,
   "id": "39d1f95f",
   "metadata": {},
   "outputs": [
    {
     "data": {
      "text/plain": [
       "nconst               object\n",
       "primaryName          object\n",
       "birthYear            object\n",
       "deathYear            object\n",
       "primaryProfession    object\n",
       "knownForTitles       object\n",
       "dtype: object"
      ]
     },
     "execution_count": 12,
     "metadata": {},
     "output_type": "execute_result"
    }
   ],
   "source": [
    "import numpy as np\n",
    "import pandas as pd\n",
    "import matplotlib as mpl\n",
    "import matplotlib.pyplot as plt\n",
    "\n",
    "import datetime\n",
    "\n",
    "df= pd.read_csv('name.basics.tsv', sep='\\t')\n",
    "df.head(20)\n",
    "df.dtypes"
   ]
  },
  {
   "cell_type": "code",
   "execution_count": 13,
   "id": "40d42d14",
   "metadata": {},
   "outputs": [],
   "source": [
    "#Convert this back to pandas  from tuple\n",
    "df = pd.DataFrame(df)\n",
    "# Convert the values the column  to lowercasedf['deathYear'] = df['deathYear'].map(str.lower)\n",
    "df = df.apply(lambda x: x.str.lower() if(x.dtype == 'object') else x)\n",
    "df = df.replace('\\n','', regex=True)"
   ]
  },
  {
   "cell_type": "code",
   "execution_count": 14,
   "id": "d197c0e2",
   "metadata": {},
   "outputs": [
    {
     "data": {
      "text/plain": [
       "(11565078, 6)"
      ]
     },
     "execution_count": 14,
     "metadata": {},
     "output_type": "execute_result"
    }
   ],
   "source": [
    "df.shape"
   ]
  },
  {
   "cell_type": "code",
   "execution_count": 15,
   "id": "b13b6c86",
   "metadata": {},
   "outputs": [],
   "source": [
    "# Replace the  \\n  character with empty string \"\" usin the regula expression\n",
    "df.replace(to_replace=[r\"\\\\t|\\\\n|\\\\r\", \"\\t|\\n|\\r\"], value=[\"\",\"\"], regex=True, inplace=True)\n",
    "\n",
    "#Filter the deathYear when it empty as this isthe criteria for being ALIVE\n",
    "df = df[df[\"deathYear\"] == '']"
   ]
  },
  {
   "cell_type": "code",
   "execution_count": 16,
   "id": "0e4bf853",
   "metadata": {},
   "outputs": [],
   "source": [
    "df = df.fillna(\"\")"
   ]
  },
  {
   "cell_type": "code",
   "execution_count": 17,
   "id": "c396ff2d",
   "metadata": {},
   "outputs": [],
   "source": [
    "#puthe the first column in a seperate colulmn in the dataFrame, to aid filtring\n",
    "df['primaryProfession_VAL'] = df['primaryProfession'].apply(lambda x: x.split(',')[0])\n"
   ]
  },
  {
   "cell_type": "code",
   "execution_count": 18,
   "id": "d47a5175",
   "metadata": {},
   "outputs": [
    {
     "data": {
      "text/plain": [
       "nconst                   object\n",
       "primaryName              object\n",
       "birthYear                object\n",
       "deathYear                object\n",
       "primaryProfession        object\n",
       "knownForTitles           object\n",
       "primaryProfession_VAL    object\n",
       "dtype: object"
      ]
     },
     "execution_count": 18,
     "metadata": {},
     "output_type": "execute_result"
    }
   ],
   "source": [
    "df.dtypes"
   ]
  },
  {
   "cell_type": "code",
   "execution_count": 19,
   "id": "fe488dbf",
   "metadata": {},
   "outputs": [],
   "source": [
    "#count the nummber of proffesions sepretaed by a comma and put in a seperate column primaryProfession_COUNT\n",
    "df['primaryProfession_COUNT'] = df['primaryProfession'].apply(lambda x: len(x.split(',')))"
   ]
  },
  {
   "cell_type": "code",
   "execution_count": 20,
   "id": "04d20470",
   "metadata": {},
   "outputs": [],
   "source": [
    "# Filter for for actors having 3 professions\n",
    "df = df[df[\"primaryProfession_COUNT\"] == 3 ]"
   ]
  },
  {
   "cell_type": "code",
   "execution_count": 21,
   "id": "be0f6468",
   "metadata": {},
   "outputs": [],
   "source": [
    "# Filter for for actors having first profession to be equal to producer\n",
    "df = df[df[\"primaryProfession_VAL\"] == 'producer']"
   ]
  },
  {
   "cell_type": "code",
   "execution_count": 22,
   "id": "8c82cdf8",
   "metadata": {},
   "outputs": [
    {
     "name": "stdout",
     "output_type": "stream",
     "text": [
      "RowCount 121555\n"
     ]
    }
   ],
   "source": [
    "#perfom the couny\n",
    "df = pd.DataFrame(df)\n",
    "RowCount, ColumnCount = df.shape\n",
    "print('RowCount',RowCount)"
   ]
  },
  {
   "cell_type": "code",
   "execution_count": null,
   "id": "8747f0b5",
   "metadata": {},
   "outputs": [],
   "source": []
  }
 ],
 "metadata": {
  "kernelspec": {
   "display_name": "Python 3 (ipykernel)",
   "language": "python",
   "name": "python3"
  },
  "language_info": {
   "codemirror_mode": {
    "name": "ipython",
    "version": 3
   },
   "file_extension": ".py",
   "mimetype": "text/x-python",
   "name": "python",
   "nbconvert_exporter": "python",
   "pygments_lexer": "ipython3",
   "version": "3.9.12"
  }
 },
 "nbformat": 4,
 "nbformat_minor": 5
}
